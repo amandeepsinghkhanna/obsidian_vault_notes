{
 "metadata": {
  "language_info": {
   "codemirror_mode": {
    "name": "ipython",
    "version": 3
   },
   "file_extension": ".py",
   "mimetype": "text/x-python",
   "name": "python",
   "nbconvert_exporter": "python",
   "pygments_lexer": "ipython3",
   "version": "3.9.5"
  },
  "orig_nbformat": 4,
  "kernelspec": {
   "name": "python3",
   "display_name": "Python 3.9.5 64-bit ('ml': venv)"
  },
  "interpreter": {
   "hash": "cfc4cdedbc00b8ba8229d522d2b8143f3c370faeb4632cab6c0b96781dabdc28"
  }
 },
 "nbformat": 4,
 "nbformat_minor": 2,
 "cells": [
  {
   "source": [
    "### Worked example of Principal Component Analysis(PCA):"
   ],
   "cell_type": "markdown",
   "metadata": {}
  },
  {
   "source": [
    "Step 1: Start "
   ],
   "cell_type": "markdown",
   "metadata": {}
  },
  {
   "source": [
    "Step 2: Read the input dataset."
   ],
   "cell_type": "markdown",
   "metadata": {}
  },
  {
   "cell_type": "code",
   "execution_count": 1,
   "metadata": {},
   "outputs": [
    {
     "output_type": "execute_result",
     "data": {
      "text/plain": [
       "[[2.5, 2.4],\n",
       " [0.5, 0.7],\n",
       " [2.2, 2.9],\n",
       " [1.9, 2.2],\n",
       " [3.1, 3.0],\n",
       " [2.3, 2.7],\n",
       " [2, 1.6],\n",
       " [1, 1.1],\n",
       " [1.5, 1.6],\n",
       " [1.1, 0.9]]"
      ]
     },
     "metadata": {},
     "execution_count": 1
    }
   ],
   "source": [
    "matrix = [\n",
    "    [2.5, 2.4],\n",
    "    [0.5, 0.7],\n",
    "    [2.2, 2.9],\n",
    "    [1.9, 2.2],\n",
    "    [3.1, 3.0],\n",
    "    [2.3, 2.7],\n",
    "    [2,   1.6],\n",
    "    [1,   1.1],\n",
    "    [1.5, 1.6],\n",
    "    [1.1, 0.9]\n",
    "]\n",
    "matrix"
   ]
  },
  {
   "source": [
    "Step 3: Compute the rows and columns in the input dataset."
   ],
   "cell_type": "markdown",
   "metadata": {}
  },
  {
   "cell_type": "code",
   "execution_count": 2,
   "metadata": {},
   "outputs": [
    {
     "output_type": "execute_result",
     "data": {
      "text/plain": [
       "(10, 2)"
      ]
     },
     "metadata": {},
     "execution_count": 2
    }
   ],
   "source": [
    "matrix_rows = len(matrix)\n",
    "matrix_columns = len(matrix[0])\n",
    "matrix_rows, matrix_columns"
   ]
  },
  {
   "source": [
    "Step 4: Compute the minimum value between the number of rows and columns of the input dataset as max_possible_components."
   ],
   "cell_type": "markdown",
   "metadata": {}
  },
  {
   "cell_type": "code",
   "execution_count": 8,
   "metadata": {},
   "outputs": [
    {
     "output_type": "execute_result",
     "data": {
      "text/plain": [
       "2"
      ]
     },
     "metadata": {},
     "execution_count": 8
    }
   ],
   "source": [
    "max_possible_components = min([matrix_rows, matrix_columns])\n",
    "max_possible_components"
   ]
  },
  {
   "cell_type": "code",
   "execution_count": 5,
   "metadata": {},
   "outputs": [],
   "source": [
    "min_values = []\n",
    "max_values = []\n",
    "avg_values = []\n",
    "\n",
    "for column_index in range(len(matrix[0])):\n",
    "    column_vector = []\n",
    "    column_sum = 0\n",
    "    for row_index in range(len(matrix)):\n",
    "        column_vector.append(matrix[row_index][column_index])\n",
    "        column_sum = column_sum + matrix[row_index][column_index]\n",
    "    min_values.append(min(column_vector))\n",
    "    max_values.append(max(column_vector))\n",
    "    avg_values.append(column_sum/len(column_vector))"
   ]
  }
 ]
}