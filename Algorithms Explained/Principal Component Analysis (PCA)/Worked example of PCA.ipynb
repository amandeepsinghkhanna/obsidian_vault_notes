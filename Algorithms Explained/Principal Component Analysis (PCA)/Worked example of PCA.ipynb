{
 "metadata": {
  "language_info": {
   "codemirror_mode": {
    "name": "ipython",
    "version": 3
   },
   "file_extension": ".py",
   "mimetype": "text/x-python",
   "name": "python",
   "nbconvert_exporter": "python",
   "pygments_lexer": "ipython3",
   "version": "3.9.5"
  },
  "orig_nbformat": 4,
  "kernelspec": {
   "name": "python3",
   "display_name": "Python 3.9.5 64-bit ('ml': venv)"
  },
  "interpreter": {
   "hash": "cfc4cdedbc00b8ba8229d522d2b8143f3c370faeb4632cab6c0b96781dabdc28"
  }
 },
 "nbformat": 4,
 "nbformat_minor": 2,
 "cells": [
  {
   "source": [
    "### Worked example of Principal Component Analysis(PCA):"
   ],
   "cell_type": "markdown",
   "metadata": {}
  },
  {
   "source": [
    "Step 1: Start "
   ],
   "cell_type": "markdown",
   "metadata": {}
  },
  {
   "source": [
    "Step 2: Read the input dataset."
   ],
   "cell_type": "markdown",
   "metadata": {}
  },
  {
   "cell_type": "code",
   "execution_count": 1,
   "metadata": {},
   "outputs": [
    {
     "output_type": "execute_result",
     "data": {
      "text/plain": [
       "[[2.5, 2.4],\n",
       " [0.5, 0.7],\n",
       " [2.2, 2.9],\n",
       " [1.9, 2.2],\n",
       " [3.1, 3.0],\n",
       " [2.3, 2.7],\n",
       " [2, 1.6],\n",
       " [1, 1.1],\n",
       " [1.5, 1.6],\n",
       " [1.1, 0.9]]"
      ]
     },
     "metadata": {},
     "execution_count": 1
    }
   ],
   "source": [
    "matrix = [\n",
    "    [2.5, 2.4],\n",
    "    [0.5, 0.7],\n",
    "    [2.2, 2.9],\n",
    "    [1.9, 2.2],\n",
    "    [3.1, 3.0],\n",
    "    [2.3, 2.7],\n",
    "    [2,   1.6],\n",
    "    [1,   1.1],\n",
    "    [1.5, 1.6],\n",
    "    [1.1, 0.9]\n",
    "]\n",
    "matrix"
   ]
  },
  {
   "source": [
    "Step 3: Compute the rows and columns in the input dataset."
   ],
   "cell_type": "markdown",
   "metadata": {}
  },
  {
   "cell_type": "code",
   "execution_count": 2,
   "metadata": {},
   "outputs": [
    {
     "output_type": "execute_result",
     "data": {
      "text/plain": [
       "(10, 2)"
      ]
     },
     "metadata": {},
     "execution_count": 2
    }
   ],
   "source": [
    "matrix_rows = len(matrix)\n",
    "matrix_columns = len(matrix[0])\n",
    "matrix_rows, matrix_columns"
   ]
  },
  {
   "source": [
    "Step 4: Compute the minimum value between the number of rows and columns of the input dataset as max_possible_components."
   ],
   "cell_type": "markdown",
   "metadata": {}
  },
  {
   "cell_type": "code",
   "execution_count": 3,
   "metadata": {},
   "outputs": [
    {
     "output_type": "execute_result",
     "data": {
      "text/plain": [
       "2"
      ]
     },
     "metadata": {},
     "execution_count": 3
    }
   ],
   "source": [
    "max_possible_components = min([matrix_rows, matrix_columns])\n",
    "max_possible_components"
   ]
  },
  {
   "source": [
    "Step 5: Input the number of principal components to be extracted from the dataset as n_components."
   ],
   "cell_type": "markdown",
   "metadata": {}
  },
  {
   "cell_type": "code",
   "execution_count": 4,
   "metadata": {},
   "outputs": [],
   "source": [
    "n_components = 1"
   ]
  },
  {
   "source": [
    "Step 6: If n_components is between 1 and max_possible_components proceed to Step 7 else move to Step 15."
   ],
   "cell_type": "markdown",
   "metadata": {}
  },
  {
   "cell_type": "code",
   "execution_count": 5,
   "metadata": {},
   "outputs": [],
   "source": [
    "if n_components >= 1 or n_components <= max_possible_components:\n",
    "    component_possible = True\n",
    "else:\n",
    "    component_possible = False"
   ]
  },
  {
   "source": [
    "Step 7: For each column/dimension in the input dataset compute the maximum, minimum values."
   ],
   "cell_type": "markdown",
   "metadata": {}
  },
  {
   "cell_type": "code",
   "execution_count": 6,
   "metadata": {},
   "outputs": [],
   "source": [
    "if component_possible == True:\n",
    "    min_values = []\n",
    "    max_values = []\n",
    "    for column_index in range(len(matrix[0])):\n",
    "        column_vector = []\n",
    "        for row_index in range(len(matrix)):\n",
    "            column_vector.append(matrix[row_index][column_index])\n",
    "        min_values.append(min(column_vector))\n",
    "        max_values.append(max(column_vector))"
   ]
  },
  {
   "cell_type": "code",
   "execution_count": 7,
   "metadata": {},
   "outputs": [
    {
     "output_type": "execute_result",
     "data": {
      "text/plain": [
       "([0.5, 0.7], [3.1, 3.0])"
      ]
     },
     "metadata": {},
     "execution_count": 7
    }
   ],
   "source": [
    "min_values, max_values"
   ]
  },
  {
   "source": [
    "Step 8: For each column/dimension in the input dataset subtract each value with the column's maximum value and divide it by the difference of the column's respective maximum and minimum value."
   ],
   "cell_type": "markdown",
   "metadata": {}
  },
  {
   "cell_type": "code",
   "execution_count": 8,
   "metadata": {},
   "outputs": [],
   "source": [
    "if component_possible == True:\n",
    "    normalized_matrix = [[] for row_index in range(len(matrix))]\n",
    "    for column_index in range(len(matrix[0])):\n",
    "        max_value = max_values[column_index]\n",
    "        denominator = max_values[column_index] - min_values[column_index]\n",
    "        for row_index in range(len(matrix)):\n",
    "            value = matrix[row_index][column_index]\n",
    "            value = (value - max_value)/denominator\n",
    "            normalized_matrix[row_index].append(value)"
   ]
  },
  {
   "cell_type": "code",
   "execution_count": 9,
   "metadata": {},
   "outputs": [
    {
     "output_type": "execute_result",
     "data": {
      "text/plain": [
       "[[-0.23076923076923078, -0.26086956521739135],\n",
       " [-1.0, -1.0],\n",
       " [-0.3461538461538461, -0.04347826086956526],\n",
       " [-0.46153846153846156, -0.3478260869565217],\n",
       " [0.0, 0.0],\n",
       " [-0.30769230769230776, -0.1304347826086956],\n",
       " [-0.4230769230769231, -0.6086956521739131],\n",
       " [-0.8076923076923077, -0.8260869565217391],\n",
       " [-0.6153846153846154, -0.6086956521739131],\n",
       " [-0.7692307692307692, -0.9130434782608696]]"
      ]
     },
     "metadata": {},
     "execution_count": 9
    }
   ],
   "source": [
    "normalized_matrix"
   ]
  },
  {
   "source": [
    "Step 9: For each column/dimension in the normalized_matrix subtract each value with the column's average value."
   ],
   "cell_type": "markdown",
   "metadata": {}
  },
  {
   "cell_type": "code",
   "execution_count": 10,
   "metadata": {},
   "outputs": [],
   "source": [
    "if component_possible == True:\n",
    "    avg_values = []\n",
    "    for column_index in range(len(normalized_matrix[0])):\n",
    "        sum_val = 0\n",
    "        for row_index in range(len(normalized_matrix)):\n",
    "            sum_val = sum_val + matrix[row_index][column_index]\n",
    "        avg_values.append(sum_val/len(normalized_matrix))\n",
    "    for column_index in range(len(normalized_matrix[0])):\n",
    "        for row_index in range(len(normalized_matrix)):\n",
    "            value = normalized_matrix[row_index][column_index]\n",
    "            value = value - avg_values[column_index]\n",
    "            normalized_matrix[row_index][column_index] = value"
   ]
  },
  {
   "cell_type": "code",
   "execution_count": 11,
   "metadata": {},
   "outputs": [
    {
     "output_type": "execute_result",
     "data": {
      "text/plain": [
       "([1.81, 1.9099999999999997],\n",
       " [[-2.040769230769231, -2.170869565217391],\n",
       "  [-2.81, -2.9099999999999997],\n",
       "  [-2.1561538461538463, -1.9534782608695649],\n",
       "  [-2.2715384615384617, -2.257826086956521],\n",
       "  [-1.81, -1.9099999999999997],\n",
       "  [-2.117692307692308, -2.0404347826086955],\n",
       "  [-2.233076923076923, -2.518695652173913],\n",
       "  [-2.617692307692308, -2.736086956521739],\n",
       "  [-2.4253846153846155, -2.518695652173913],\n",
       "  [-2.579230769230769, -2.8230434782608693]])"
      ]
     },
     "metadata": {},
     "execution_count": 11
    }
   ],
   "source": [
    "avg_values, normalized_matrix"
   ]
  },
  {
   "source": [
    "Step 10: For each combination of column/dimension in the input dataset compute its respective covariance and store the output as a covariance_matrix."
   ],
   "cell_type": "markdown",
   "metadata": {}
  },
  {
   "cell_type": "code",
   "execution_count": 12,
   "metadata": {},
   "outputs": [],
   "source": [
    "if component_possible == True:\n",
    "    covariance_matrix = [[] for _ in range(len(normalized_matrix[0]))]\n",
    "    "
   ]
  },
  {
   "cell_type": "code",
   "execution_count": 13,
   "metadata": {},
   "outputs": [
    {
     "output_type": "execute_result",
     "data": {
      "text/plain": [
       "[[], []]"
      ]
     },
     "metadata": {},
     "execution_count": 13
    }
   ],
   "source": [
    "covariance_matrix"
   ]
  },
  {
   "cell_type": "code",
   "execution_count": null,
   "metadata": {},
   "outputs": [],
   "source": []
  }
 ]
}