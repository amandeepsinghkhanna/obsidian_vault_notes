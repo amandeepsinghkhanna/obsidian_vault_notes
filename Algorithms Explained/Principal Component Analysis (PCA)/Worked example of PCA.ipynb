{
 "metadata": {
  "language_info": {
   "codemirror_mode": {
    "name": "ipython",
    "version": 3
   },
   "file_extension": ".py",
   "mimetype": "text/x-python",
   "name": "python",
   "nbconvert_exporter": "python",
   "pygments_lexer": "ipython3",
   "version": "3.9.5"
  },
  "orig_nbformat": 4,
  "kernelspec": {
   "name": "python3",
   "display_name": "Python 3.9.5 64-bit ('ml': venv)"
  },
  "interpreter": {
   "hash": "cfc4cdedbc00b8ba8229d522d2b8143f3c370faeb4632cab6c0b96781dabdc28"
  }
 },
 "nbformat": 4,
 "nbformat_minor": 2,
 "cells": [
  {
   "cell_type": "code",
   "execution_count": 1,
   "metadata": {},
   "outputs": [],
   "source": [
    "import pandas as pd"
   ]
  },
  {
   "cell_type": "code",
   "execution_count": 2,
   "metadata": {},
   "outputs": [
    {
     "output_type": "execute_result",
     "data": {
      "text/plain": [
       "     x    y\n",
       "0  2.5  2.4\n",
       "1  0.5  0.7\n",
       "2  2.2  2.9\n",
       "3  1.9  2.2\n",
       "4  3.1  3.0\n",
       "5  2.3  2.7\n",
       "6  2.0  1.6\n",
       "7  1.0  1.1\n",
       "8  1.5  1.6\n",
       "9  1.1  0.9"
      ],
      "text/html": "<div>\n<style scoped>\n    .dataframe tbody tr th:only-of-type {\n        vertical-align: middle;\n    }\n\n    .dataframe tbody tr th {\n        vertical-align: top;\n    }\n\n    .dataframe thead th {\n        text-align: right;\n    }\n</style>\n<table border=\"1\" class=\"dataframe\">\n  <thead>\n    <tr style=\"text-align: right;\">\n      <th></th>\n      <th>x</th>\n      <th>y</th>\n    </tr>\n  </thead>\n  <tbody>\n    <tr>\n      <th>0</th>\n      <td>2.5</td>\n      <td>2.4</td>\n    </tr>\n    <tr>\n      <th>1</th>\n      <td>0.5</td>\n      <td>0.7</td>\n    </tr>\n    <tr>\n      <th>2</th>\n      <td>2.2</td>\n      <td>2.9</td>\n    </tr>\n    <tr>\n      <th>3</th>\n      <td>1.9</td>\n      <td>2.2</td>\n    </tr>\n    <tr>\n      <th>4</th>\n      <td>3.1</td>\n      <td>3.0</td>\n    </tr>\n    <tr>\n      <th>5</th>\n      <td>2.3</td>\n      <td>2.7</td>\n    </tr>\n    <tr>\n      <th>6</th>\n      <td>2.0</td>\n      <td>1.6</td>\n    </tr>\n    <tr>\n      <th>7</th>\n      <td>1.0</td>\n      <td>1.1</td>\n    </tr>\n    <tr>\n      <th>8</th>\n      <td>1.5</td>\n      <td>1.6</td>\n    </tr>\n    <tr>\n      <th>9</th>\n      <td>1.1</td>\n      <td>0.9</td>\n    </tr>\n  </tbody>\n</table>\n</div>"
     },
     "metadata": {},
     "execution_count": 2
    }
   ],
   "source": [
    "df = pd.DataFrame({\n",
    "    \"x\": [2.5,\n",
    "    0.5,\n",
    "    2.2,\n",
    "    1.9,\n",
    "    3.1,\n",
    "    2.3,\n",
    "    2,\n",
    "    1,\n",
    "    1.5,\n",
    "    1.1],\n",
    "    \"y\": [2.4,\n",
    "    0.7,\n",
    "    2.9,\n",
    "    2.2,\n",
    "    3,\n",
    "    2.7,\n",
    "    1.6,\n",
    "    1.1,\n",
    "    1.6,\n",
    "    0.9]\n",
    "})\n",
    "df"
   ]
  },
  {
   "cell_type": "code",
   "execution_count": 3,
   "metadata": {},
   "outputs": [],
   "source": [
    "df[\"x - x_average\"] = df[\"x\"] - df[\"x\"].mean()\n",
    "df[\"y - y_average\"] = df[\"y\"] - df[\"y\"].mean()"
   ]
  },
  {
   "cell_type": "code",
   "execution_count": 4,
   "metadata": {},
   "outputs": [
    {
     "output_type": "execute_result",
     "data": {
      "text/plain": [
       "     x    y  x - x_average  y - y_average\n",
       "0  2.5  2.4           0.69           0.49\n",
       "1  0.5  0.7          -1.31          -1.21\n",
       "2  2.2  2.9           0.39           0.99\n",
       "3  1.9  2.2           0.09           0.29\n",
       "4  3.1  3.0           1.29           1.09\n",
       "5  2.3  2.7           0.49           0.79\n",
       "6  2.0  1.6           0.19          -0.31\n",
       "7  1.0  1.1          -0.81          -0.81\n",
       "8  1.5  1.6          -0.31          -0.31\n",
       "9  1.1  0.9          -0.71          -1.01"
      ],
      "text/html": "<div>\n<style scoped>\n    .dataframe tbody tr th:only-of-type {\n        vertical-align: middle;\n    }\n\n    .dataframe tbody tr th {\n        vertical-align: top;\n    }\n\n    .dataframe thead th {\n        text-align: right;\n    }\n</style>\n<table border=\"1\" class=\"dataframe\">\n  <thead>\n    <tr style=\"text-align: right;\">\n      <th></th>\n      <th>x</th>\n      <th>y</th>\n      <th>x - x_average</th>\n      <th>y - y_average</th>\n    </tr>\n  </thead>\n  <tbody>\n    <tr>\n      <th>0</th>\n      <td>2.5</td>\n      <td>2.4</td>\n      <td>0.69</td>\n      <td>0.49</td>\n    </tr>\n    <tr>\n      <th>1</th>\n      <td>0.5</td>\n      <td>0.7</td>\n      <td>-1.31</td>\n      <td>-1.21</td>\n    </tr>\n    <tr>\n      <th>2</th>\n      <td>2.2</td>\n      <td>2.9</td>\n      <td>0.39</td>\n      <td>0.99</td>\n    </tr>\n    <tr>\n      <th>3</th>\n      <td>1.9</td>\n      <td>2.2</td>\n      <td>0.09</td>\n      <td>0.29</td>\n    </tr>\n    <tr>\n      <th>4</th>\n      <td>3.1</td>\n      <td>3.0</td>\n      <td>1.29</td>\n      <td>1.09</td>\n    </tr>\n    <tr>\n      <th>5</th>\n      <td>2.3</td>\n      <td>2.7</td>\n      <td>0.49</td>\n      <td>0.79</td>\n    </tr>\n    <tr>\n      <th>6</th>\n      <td>2.0</td>\n      <td>1.6</td>\n      <td>0.19</td>\n      <td>-0.31</td>\n    </tr>\n    <tr>\n      <th>7</th>\n      <td>1.0</td>\n      <td>1.1</td>\n      <td>-0.81</td>\n      <td>-0.81</td>\n    </tr>\n    <tr>\n      <th>8</th>\n      <td>1.5</td>\n      <td>1.6</td>\n      <td>-0.31</td>\n      <td>-0.31</td>\n    </tr>\n    <tr>\n      <th>9</th>\n      <td>1.1</td>\n      <td>0.9</td>\n      <td>-0.71</td>\n      <td>-1.01</td>\n    </tr>\n  </tbody>\n</table>\n</div>"
     },
     "metadata": {},
     "execution_count": 4
    }
   ],
   "source": [
    "df"
   ]
  },
  {
   "cell_type": "code",
   "execution_count": 5,
   "metadata": {},
   "outputs": [],
   "source": [
    "covariance_matrix = df[[\"x - x_average\", \"y - y_average\"]].cov()"
   ]
  },
  {
   "cell_type": "code",
   "execution_count": 6,
   "metadata": {},
   "outputs": [],
   "source": [
    "import numpy as np"
   ]
  },
  {
   "cell_type": "code",
   "execution_count": 7,
   "metadata": {},
   "outputs": [],
   "source": [
    "eigen_values, eigen_vectors = np.linalg.eig(covariance_matrix.values)"
   ]
  },
  {
   "cell_type": "code",
   "execution_count": 8,
   "metadata": {},
   "outputs": [
    {
     "output_type": "execute_result",
     "data": {
      "text/plain": [
       "1.2840277121727839"
      ]
     },
     "metadata": {},
     "execution_count": 8
    }
   ],
   "source": [
    "eigen_values[1]"
   ]
  },
  {
   "cell_type": "code",
   "execution_count": 9,
   "metadata": {},
   "outputs": [
    {
     "output_type": "execute_result",
     "data": {
      "text/plain": [
       "array([[-0.73517866, -0.6778734 ],\n",
       "       [ 0.6778734 , -0.73517866]])"
      ]
     },
     "metadata": {},
     "execution_count": 9
    }
   ],
   "source": [
    "eigen_vectors"
   ]
  },
  {
   "cell_type": "code",
   "execution_count": 10,
   "metadata": {},
   "outputs": [
    {
     "output_type": "execute_result",
     "data": {
      "text/plain": [
       "array([-0.6778734 , -0.73517866])"
      ]
     },
     "metadata": {},
     "execution_count": 10
    }
   ],
   "source": [
    "eigen_vectors[:,1]"
   ]
  },
  {
   "cell_type": "code",
   "execution_count": 11,
   "metadata": {},
   "outputs": [
    {
     "output_type": "execute_result",
     "data": {
      "text/plain": [
       "   x - x_average  y - y_average\n",
       "0           0.69           0.49\n",
       "1          -1.31          -1.21\n",
       "2           0.39           0.99\n",
       "3           0.09           0.29\n",
       "4           1.29           1.09\n",
       "5           0.49           0.79\n",
       "6           0.19          -0.31\n",
       "7          -0.81          -0.81\n",
       "8          -0.31          -0.31\n",
       "9          -0.71          -1.01"
      ],
      "text/html": "<div>\n<style scoped>\n    .dataframe tbody tr th:only-of-type {\n        vertical-align: middle;\n    }\n\n    .dataframe tbody tr th {\n        vertical-align: top;\n    }\n\n    .dataframe thead th {\n        text-align: right;\n    }\n</style>\n<table border=\"1\" class=\"dataframe\">\n  <thead>\n    <tr style=\"text-align: right;\">\n      <th></th>\n      <th>x - x_average</th>\n      <th>y - y_average</th>\n    </tr>\n  </thead>\n  <tbody>\n    <tr>\n      <th>0</th>\n      <td>0.69</td>\n      <td>0.49</td>\n    </tr>\n    <tr>\n      <th>1</th>\n      <td>-1.31</td>\n      <td>-1.21</td>\n    </tr>\n    <tr>\n      <th>2</th>\n      <td>0.39</td>\n      <td>0.99</td>\n    </tr>\n    <tr>\n      <th>3</th>\n      <td>0.09</td>\n      <td>0.29</td>\n    </tr>\n    <tr>\n      <th>4</th>\n      <td>1.29</td>\n      <td>1.09</td>\n    </tr>\n    <tr>\n      <th>5</th>\n      <td>0.49</td>\n      <td>0.79</td>\n    </tr>\n    <tr>\n      <th>6</th>\n      <td>0.19</td>\n      <td>-0.31</td>\n    </tr>\n    <tr>\n      <th>7</th>\n      <td>-0.81</td>\n      <td>-0.81</td>\n    </tr>\n    <tr>\n      <th>8</th>\n      <td>-0.31</td>\n      <td>-0.31</td>\n    </tr>\n    <tr>\n      <th>9</th>\n      <td>-0.71</td>\n      <td>-1.01</td>\n    </tr>\n  </tbody>\n</table>\n</div>"
     },
     "metadata": {},
     "execution_count": 11
    }
   ],
   "source": [
    "df[[\"x - x_average\", \"y - y_average\"]]"
   ]
  },
  {
   "cell_type": "code",
   "execution_count": 12,
   "metadata": {},
   "outputs": [],
   "source": [
    "df[\"reduced_dim\"] = np.dot(df[[\"x - x_average\", \"y - y_average\"]].values, eigen_vectors[:, 1].T)"
   ]
  },
  {
   "cell_type": "code",
   "execution_count": 13,
   "metadata": {},
   "outputs": [],
   "source": [
    "# 9 x 2 - 2 x 1"
   ]
  },
  {
   "cell_type": "code",
   "execution_count": 14,
   "metadata": {},
   "outputs": [
    {
     "output_type": "execute_result",
     "data": {
      "text/plain": [
       "     x    y  x - x_average  y - y_average  reduced_dim\n",
       "0  2.5  2.4           0.69           0.49    -0.827970\n",
       "1  0.5  0.7          -1.31          -1.21     1.777580\n",
       "2  2.2  2.9           0.39           0.99    -0.992197\n",
       "3  1.9  2.2           0.09           0.29    -0.274210\n",
       "4  3.1  3.0           1.29           1.09    -1.675801\n",
       "5  2.3  2.7           0.49           0.79    -0.912949\n",
       "6  2.0  1.6           0.19          -0.31     0.099109\n",
       "7  1.0  1.1          -0.81          -0.81     1.144572\n",
       "8  1.5  1.6          -0.31          -0.31     0.438046\n",
       "9  1.1  0.9          -0.71          -1.01     1.223821"
      ],
      "text/html": "<div>\n<style scoped>\n    .dataframe tbody tr th:only-of-type {\n        vertical-align: middle;\n    }\n\n    .dataframe tbody tr th {\n        vertical-align: top;\n    }\n\n    .dataframe thead th {\n        text-align: right;\n    }\n</style>\n<table border=\"1\" class=\"dataframe\">\n  <thead>\n    <tr style=\"text-align: right;\">\n      <th></th>\n      <th>x</th>\n      <th>y</th>\n      <th>x - x_average</th>\n      <th>y - y_average</th>\n      <th>reduced_dim</th>\n    </tr>\n  </thead>\n  <tbody>\n    <tr>\n      <th>0</th>\n      <td>2.5</td>\n      <td>2.4</td>\n      <td>0.69</td>\n      <td>0.49</td>\n      <td>-0.827970</td>\n    </tr>\n    <tr>\n      <th>1</th>\n      <td>0.5</td>\n      <td>0.7</td>\n      <td>-1.31</td>\n      <td>-1.21</td>\n      <td>1.777580</td>\n    </tr>\n    <tr>\n      <th>2</th>\n      <td>2.2</td>\n      <td>2.9</td>\n      <td>0.39</td>\n      <td>0.99</td>\n      <td>-0.992197</td>\n    </tr>\n    <tr>\n      <th>3</th>\n      <td>1.9</td>\n      <td>2.2</td>\n      <td>0.09</td>\n      <td>0.29</td>\n      <td>-0.274210</td>\n    </tr>\n    <tr>\n      <th>4</th>\n      <td>3.1</td>\n      <td>3.0</td>\n      <td>1.29</td>\n      <td>1.09</td>\n      <td>-1.675801</td>\n    </tr>\n    <tr>\n      <th>5</th>\n      <td>2.3</td>\n      <td>2.7</td>\n      <td>0.49</td>\n      <td>0.79</td>\n      <td>-0.912949</td>\n    </tr>\n    <tr>\n      <th>6</th>\n      <td>2.0</td>\n      <td>1.6</td>\n      <td>0.19</td>\n      <td>-0.31</td>\n      <td>0.099109</td>\n    </tr>\n    <tr>\n      <th>7</th>\n      <td>1.0</td>\n      <td>1.1</td>\n      <td>-0.81</td>\n      <td>-0.81</td>\n      <td>1.144572</td>\n    </tr>\n    <tr>\n      <th>8</th>\n      <td>1.5</td>\n      <td>1.6</td>\n      <td>-0.31</td>\n      <td>-0.31</td>\n      <td>0.438046</td>\n    </tr>\n    <tr>\n      <th>9</th>\n      <td>1.1</td>\n      <td>0.9</td>\n      <td>-0.71</td>\n      <td>-1.01</td>\n      <td>1.223821</td>\n    </tr>\n  </tbody>\n</table>\n</div>"
     },
     "metadata": {},
     "execution_count": 14
    }
   ],
   "source": [
    "df"
   ]
  }
 ]
}